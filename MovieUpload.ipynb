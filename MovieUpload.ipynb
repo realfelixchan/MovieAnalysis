{
 "cells": [
  {
   "cell_type": "code",
   "execution_count": null,
   "id": "36c78083-219c-4d98-87b9-300695e72dcd",
   "metadata": {},
   "outputs": [],
   "source": [
    "## General imports\n",
    "import json\n",
    "import airflow\n",
    "\n",
    "## Pinecone import\n",
    "import pinecone"
   ]
  },
  {
   "cell_type": "code",
   "execution_count": null,
   "id": "56b95009-c05c-403a-803e-e66d741b1a89",
   "metadata": {},
   "outputs": [],
   "source": [
    "def batch_list(input_list, n=100):\n",
    "    for i in range(0, len(input_list), n):\n",
    "        yield input_list[i:i + n]"
   ]
  },
  {
   "cell_type": "code",
   "execution_count": null,
   "id": "b7c35388-7d47-4ec7-bfc6-3e6becbda999",
   "metadata": {},
   "outputs": [],
   "source": [
    "#Save a json file with api keys for tmdb, openai, pinecone, and postgres username/password\n",
    "api_keys = json.load(open(\"./Credentials/api_keys.json\"))\n",
    "pinecone.init(api_key = api_keys[\"PINECONE_API_KEY\"], environment=\"gcp-starter\")"
   ]
  },
  {
   "cell_type": "code",
   "execution_count": null,
   "id": "2b8518ee-e2b4-4353-8245-526f2d72164b",
   "metadata": {},
   "outputs": [],
   "source": [
    "index_name = \"movie-finder\""
   ]
  },
  {
   "cell_type": "code",
   "execution_count": null,
   "id": "d8275a53-c2ff-49d7-86d4-7c9f16e7fe43",
   "metadata": {},
   "outputs": [],
   "source": [
    "if index name not in pinecone.list_index()\n",
    "    pinecone.create_index(\n",
    "        index_name,\n",
    "        dimension=768,\n",
    "        metric=\"dotproduct\",\n",
    "    )\n",
    "index = pinecone.GRPCIndex(index_name)\n",
    "\n",
    "for batch in batch_list(all_data):\n",
    "    index.upsert(vectors=batch)"
   ]
  }
 ],
 "metadata": {
  "kernelspec": {
   "display_name": "Python 3 (ipykernel)",
   "language": "python",
   "name": "python3"
  },
  "language_info": {
   "codemirror_mode": {
    "name": "ipython",
    "version": 3
   },
   "file_extension": ".py",
   "mimetype": "text/x-python",
   "name": "python",
   "nbconvert_exporter": "python",
   "pygments_lexer": "ipython3",
   "version": "3.9.1"
  }
 },
 "nbformat": 4,
 "nbformat_minor": 5
}
